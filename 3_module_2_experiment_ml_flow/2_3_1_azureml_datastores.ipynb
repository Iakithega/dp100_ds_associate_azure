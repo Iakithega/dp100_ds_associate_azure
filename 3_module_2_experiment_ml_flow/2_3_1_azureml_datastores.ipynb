{
 "cells": [
  {
   "cell_type": "code",
   "execution_count": 15,
   "metadata": {},
   "outputs": [],
   "source": [
    "from azure.ai.ml import MLClient\n",
    "from azure.identity import DefaultAzureCredential, InteractiveBrowserCredential\n",
    "\n",
    "\n",
    "from azure.ai.ml.constants import AssetTypes\n",
    "from azure.ai.ml.entities import Data\n",
    "\n",
    "from azure.ai.ml import Input\n",
    "\n",
    "\n",
    "from dotenv import load_dotenv\n",
    "import os\n",
    "import shutil\n",
    "\n",
    "from azure.ai.ml import automl\n",
    "from azure.ai.ml.automl import ClassificationPrimaryMetrics\n",
    "\n",
    "\n"
   ]
  },
  {
   "cell_type": "markdown",
   "metadata": {},
   "source": [
    "## Connect to the workspace\n",
    "After the Python SDK is installed, you'll need to connect to the workspace. By connecting, you're authenticating your environment to interact with the workspace to create and manage assets and resources.\n",
    "\n",
    "To authenticate, you need the values to three necessary parameters:\n",
    "\n",
    "#### subscription_id: Your subscription ID.\n",
    "#### resource_group: The name of your resource group.\n",
    "#### workspace_name: The name of your workspace."
   ]
  },
  {
   "cell_type": "code",
   "execution_count": 3,
   "metadata": {},
   "outputs": [
    {
     "name": "stderr",
     "output_type": "stream",
     "text": [
      "Overriding of current TracerProvider is not allowed\n",
      "Overriding of current LoggerProvider is not allowed\n",
      "Overriding of current MeterProvider is not allowed\n",
      "Attempting to instrument while already instrumented\n",
      "Attempting to instrument while already instrumented\n",
      "Attempting to instrument while already instrumented\n"
     ]
    },
    {
     "name": "stdout",
     "output_type": "stream",
     "text": [
      "dvo-CPU-INS-DS11 : computeinstance\n",
      "basic-ci-danja : computeinstance\n",
      "Datastore: azureml_globaldatasets (Type: DatastoreType.AZURE_BLOB)\n",
      "Datastore: workspaceblobstore (Type: DatastoreType.AZURE_BLOB)\n",
      "Datastore: workspaceworkingdirectory (Type: DatastoreType.AZURE_FILE)\n",
      "Datastore: workspaceartifactstore (Type: DatastoreType.AZURE_BLOB)\n",
      "Datastore: workspacefilestore (Type: DatastoreType.AZURE_FILE)\n"
     ]
    }
   ],
   "source": [
    "load_dotenv()\n",
    "\n",
    "subscription_id = os.getenv(\"AZURE_SUBSCRIPTION_ID\")\n",
    "resource_group = os.getenv(\"AZURE_RESOURCE_GROUP\")\n",
    "workspace_name = os.getenv(\"AZURE_WORKSPACE_NAME\")\n",
    "\n",
    "\n",
    "\n",
    "try:\n",
    "    credential = DefaultAzureCredential()\n",
    "    # Check if given credential can get token successfully.\n",
    "    credential.get_token(\"https://management.azure.com/.default\")\n",
    "except Exception as ex:\n",
    "    # Fall back to InteractiveBrowserCredential in case DefaultAzureCredential not work\n",
    "    credential = InteractiveBrowserCredential()\n",
    "\n",
    "\n",
    "ml_client = MLClient(\n",
    "    DefaultAzureCredential(), subscription_id, resource_group, workspace_name\n",
    ")\n",
    "\n",
    "# List available compute resources\n",
    "compute_list = ml_client.compute.list()\n",
    "for compute in compute_list:\n",
    "    print(compute.name, \":\", compute.type)\n",
    "\n",
    "\n",
    "# List all datastores in your workspace\n",
    "datastores = ml_client.datastores.list()\n",
    "for datastore in datastores:\n",
    "    print(f\"Datastore: {datastore.name} (Type: {datastore.type})\")"
   ]
  },
  {
   "cell_type": "code",
   "execution_count": 5,
   "metadata": {},
   "outputs": [],
   "source": [
    "my_training_data_input = Input(type=AssetTypes.MLTABLE, path=\"azureml:input-data-automl:1\")\n"
   ]
  },
  {
   "cell_type": "code",
   "execution_count": 11,
   "metadata": {},
   "outputs": [
    {
     "name": "stderr",
     "output_type": "stream",
     "text": [
      "Uploading diabetes_mltable (0.53 MBs): 100%|##########| 527915/527915 [00:00<00:00, 818611.78it/s]\n",
      "\n",
      "\n"
     ]
    },
    {
     "name": "stdout",
     "output_type": "stream",
     "text": [
      "Successfully registered MLTable asset: diabetes_mltable, version: 1\n"
     ]
    }
   ],
   "source": [
    "\n",
    "\n",
    "# Base directory where your CSV file is located\n",
    "base_dir = r\"C:\\Users\\dvolf\\python_projects\\azure_dp_100_2025\\dp100_ds_associate_azure\\3_module_2_experiment_ml_flow\"\n",
    "csv_path = os.path.join(base_dir, \"diabetes.csv\")\n",
    "\n",
    "# Create a directory for the MLTable definition\n",
    "mltable_dir = os.path.join(base_dir, \"diabetes_mltable\")\n",
    "os.makedirs(mltable_dir, exist_ok=True)\n",
    "\n",
    "# Create a data subdirectory\n",
    "data_dir = os.path.join(mltable_dir, \"data\")\n",
    "os.makedirs(data_dir, exist_ok=True)\n",
    "\n",
    "# Copy the CSV file to the data directory\n",
    "shutil.copy2(csv_path, os.path.join(data_dir, \"diabetes.csv\"))\n",
    "\n",
    "# Create the MLTable definition file\n",
    "mltable_content = \"\"\"paths:\n",
    "  - file: ./data/diabetes.csv\n",
    "transformations:\n",
    "  - read_delimited:\n",
    "      delimiter: ','\n",
    "      encoding: 'utf8'\n",
    "      header: all_files_same_headers\n",
    "\"\"\"\n",
    "\n",
    "with open(os.path.join(mltable_dir, \"MLTable\"), \"w\") as f:\n",
    "    f.write(mltable_content)\n",
    "\n",
    "# Register the MLTable asset\n",
    "diabetes_mltable = Data(\n",
    "    path=mltable_dir,\n",
    "    type=AssetTypes.MLTABLE,\n",
    "    description=\"Diabetes dataset as MLTable format\",\n",
    "    name=\"diabetes_mltable\",\n",
    "    version=\"1\"\n",
    ")\n",
    "\n",
    "registered_data = ml_client.data.create_or_update(diabetes_mltable)\n",
    "print(f\"Successfully registered MLTable asset: {registered_data.name}, version: {registered_data.version}\")"
   ]
  },
  {
   "cell_type": "code",
   "execution_count": 19,
   "metadata": {},
   "outputs": [],
   "source": [
    "# Create an input reference to your MLTable data asset\n",
    "diabetes_data_input = Input(\n",
    "    type=AssetTypes.MLTABLE,\n",
    "    path=\"azureml:diabetes_mltable:1\"\n",
    ")"
   ]
  },
  {
   "cell_type": "code",
   "execution_count": 20,
   "metadata": {},
   "outputs": [],
   "source": [
    "# configure the classification job\n",
    "classification_job = automl.classification(\n",
    "    compute=\"dvo-CPU-INS-DS11\",\n",
    "    experiment_name=\"auto-ml-class-dev-danja\",\n",
    "    training_data=diabetes_data_input,\n",
    "    target_column_name=\"Diabetic\",\n",
    "    primary_metric=\"accuracy\",\n",
    "    n_cross_validations=5,\n",
    "    enable_model_explainability=True\n",
    ")\n",
    "\n",
    "classification_job.set_limits(\n",
    "    timeout_minutes=60, \n",
    "    trial_timeout_minutes=20, \n",
    "    max_trials=10,\n",
    "    enable_early_termination=True,\n",
    ")"
   ]
  },
  {
   "cell_type": "code",
   "execution_count": 23,
   "metadata": {},
   "outputs": [],
   "source": [
    "# submit the AutoML job\n",
    "returned_job = ml_client.jobs.create_or_update(classification_job) "
   ]
  },
  {
   "cell_type": "code",
   "execution_count": 24,
   "metadata": {},
   "outputs": [
    {
     "name": "stdout",
     "output_type": "stream",
     "text": [
      "Monitor your job at https://ml.azure.com/runs/boring_watch_dqrqlhzm25?wsid=/subscriptions/6f83b388-7253-46ac-a2f7-300b7e3f313e/resourcegroups/pbi-dvo-rg/workspaces/dp100dvoML&tid=08b71322-e8b4-4d15-9892-339a33556b10\n"
     ]
    }
   ],
   "source": [
    "aml_url = returned_job.studio_url\n",
    "print(\"Monitor your job at\", aml_url)"
   ]
  },
  {
   "cell_type": "code",
   "execution_count": 26,
   "metadata": {},
   "outputs": [
    {
     "name": "stdout",
     "output_type": "stream",
     "text": [
      "Models tried by AutoML:\n",
      "- bold_pen_209zqns4\n",
      "- khaki_clock_rghb07kf\n",
      "- blue_box_rn5z4fwk\n",
      "- sleepy_parsnip_b89z2v6d\n",
      "- amusing_hat_f3dsf7t7\n",
      "- coral_pumpkin_5zbcjqcd\n",
      "- quiet_boniato_pgr5jzz5\n",
      "- placid_bucket_wzkqyv12\n",
      "- kind_plastic_cz9yctw7\n",
      "- happy_nail_mvyq9v5q\n",
      "- nice_quince_4fzzyk9n\n",
      "- cyan_fennel_yq3g487n\n",
      "- careful_watch_561g19wx\n"
     ]
    }
   ],
   "source": [
    "# Get the job details\n",
    "job_detail = ml_client.jobs.get(returned_job.name)\n",
    "\n",
    "# For completed jobs, you can access the best model\n",
    "if job_detail.status == \"Completed\":\n",
    "    # Get the best model\n",
    "    # best_model = job_detail.outputs.best_model\n",
    "    \n",
    "    # Get the list of all child jobs (each represents a model trial)\n",
    "    all_child_jobs = ml_client.jobs.list(parent_job_name=returned_job.name)\n",
    "    \n",
    "    print(\"Models tried by AutoML:\")\n",
    "    for job in all_child_jobs:\n",
    "        # Extract model name/algorithm from the job\n",
    "        if hasattr(job, 'display_name') and job.display_name:\n",
    "            print(f\"- {job.display_name}\")"
   ]
  },
  {
   "cell_type": "code",
   "execution_count": 9,
   "metadata": {},
   "outputs": [
    {
     "ename": "MlException",
     "evalue": "\n\u001b[37m\n\u001b[30m\n1) One or more files or folders do not exist.\n\u001b[39m\u001b[39m\n\nDetails: \n\n\u001b[31m(x) No such file or directory: C:\\Users\\dvolf\\python_projects\\azure_dp_100_2025\\dp100_ds_associate_azure\\3_module_2_experiment_ml_flow\\diabetes.csv\\MLTable\u001b[39m\n\nResolutions: \n1) Double-check the directory path you provided and enter the correct path.\nIf using the CLI, you can also check the full log in debug mode for more details by adding --debug to the end of your command\n\nAdditional Resources: The easiest way to author a yaml specification file is using IntelliSense and auto-completion Azure ML VS code extension provides: \u001b[36mhttps://code.visualstudio.com/docs/datascience/azure-machine-learning.\u001b[39m To set up VS Code, visit \u001b[36mhttps://learn.microsoft.com/azure/machine-learning/how-to-setup-vs-code\u001b[39m\n",
     "output_type": "error",
     "traceback": [
      "\u001b[1;31m---------------------------------------------------------------------------\u001b[0m",
      "\u001b[1;31mFileNotFoundError\u001b[0m                         Traceback (most recent call last)",
      "File \u001b[1;32mc:\\Users\\dvolf\\python_projects\\azure_dp_100_2025\\dp100_ds_associate_azure\\.venv\\Lib\\site-packages\\azure\\ai\\ml\\_utils\\utils.py:313\u001b[0m, in \u001b[0;36mload_yaml\u001b[1;34m(source)\u001b[0m\n\u001b[0;32m    312\u001b[0m \u001b[38;5;28;01mtry\u001b[39;00m:\n\u001b[1;32m--> 313\u001b[0m     cm \u001b[38;5;241m=\u001b[39m \u001b[38;5;28;43mopen\u001b[39;49m\u001b[43m(\u001b[49m\u001b[43msource\u001b[49m\u001b[43m,\u001b[49m\u001b[43m \u001b[49m\u001b[38;5;124;43m\"\u001b[39;49m\u001b[38;5;124;43mr\u001b[39;49m\u001b[38;5;124;43m\"\u001b[39;49m\u001b[43m,\u001b[49m\u001b[43m \u001b[49m\u001b[43mencoding\u001b[49m\u001b[38;5;241;43m=\u001b[39;49m\u001b[43mDefaultOpenEncoding\u001b[49m\u001b[38;5;241;43m.\u001b[39;49m\u001b[43mREAD\u001b[49m\u001b[43m)\u001b[49m\n\u001b[0;32m    314\u001b[0m \u001b[38;5;28;01mexcept\u001b[39;00m \u001b[38;5;167;01mOSError\u001b[39;00m \u001b[38;5;28;01mas\u001b[39;00m e:\n",
      "\u001b[1;31mFileNotFoundError\u001b[0m: [Errno 2] No such file or directory: 'C:\\\\Users\\\\dvolf\\\\python_projects\\\\azure_dp_100_2025\\\\dp100_ds_associate_azure\\\\3_module_2_experiment_ml_flow\\\\diabetes.csv\\\\MLTable'",
      "\nThe above exception was the direct cause of the following exception:\n",
      "\u001b[1;31mValidationException\u001b[0m                       Traceback (most recent call last)",
      "File \u001b[1;32mc:\\Users\\dvolf\\python_projects\\azure_dp_100_2025\\dp100_ds_associate_azure\\.venv\\Lib\\site-packages\\azure\\ai\\ml\\operations\\_data_operations.py:363\u001b[0m, in \u001b[0;36mDataOperations.create_or_update\u001b[1;34m(self, data)\u001b[0m\n\u001b[0;32m    354\u001b[0m     sas_uri \u001b[38;5;241m=\u001b[39m get_sas_uri_for_registry_asset(\n\u001b[0;32m    355\u001b[0m         service_client\u001b[38;5;241m=\u001b[39m\u001b[38;5;28mself\u001b[39m\u001b[38;5;241m.\u001b[39m_service_client,\n\u001b[0;32m    356\u001b[0m         name\u001b[38;5;241m=\u001b[39mname,\n\u001b[1;32m   (...)\u001b[0m\n\u001b[0;32m    360\u001b[0m         body\u001b[38;5;241m=\u001b[39mget_asset_body_for_registry_storage(\u001b[38;5;28mself\u001b[39m\u001b[38;5;241m.\u001b[39m_registry_name, \u001b[38;5;124m\"\u001b[39m\u001b[38;5;124mdata\u001b[39m\u001b[38;5;124m\"\u001b[39m, name, version),\n\u001b[0;32m    361\u001b[0m     )\n\u001b[1;32m--> 363\u001b[0m referenced_uris \u001b[38;5;241m=\u001b[39m \u001b[38;5;28;43mself\u001b[39;49m\u001b[38;5;241;43m.\u001b[39;49m\u001b[43m_validate\u001b[49m\u001b[43m(\u001b[49m\u001b[43mdata\u001b[49m\u001b[43m)\u001b[49m\n\u001b[0;32m    364\u001b[0m \u001b[38;5;28;01mif\u001b[39;00m referenced_uris:\n",
      "File \u001b[1;32mc:\\Users\\dvolf\\python_projects\\azure_dp_100_2025\\dp100_ds_associate_azure\\.venv\\Lib\\site-packages\\azure\\ai\\ml\\_telemetry\\activity.py:288\u001b[0m, in \u001b[0;36mmonitor_with_activity.<locals>.monitor.<locals>.wrapper\u001b[1;34m(*args, **kwargs)\u001b[0m\n\u001b[0;32m    285\u001b[0m         \u001b[38;5;28;01mwith\u001b[39;00m log_activity(\n\u001b[0;32m    286\u001b[0m             logger\u001b[38;5;241m.\u001b[39mpackage_logger, activity_name \u001b[38;5;129;01mor\u001b[39;00m f\u001b[38;5;241m.\u001b[39m\u001b[38;5;18m__name__\u001b[39m, activity_type, custom_dimensions\n\u001b[0;32m    287\u001b[0m         ):\n\u001b[1;32m--> 288\u001b[0m             \u001b[38;5;28;01mreturn\u001b[39;00m \u001b[43mf\u001b[49m\u001b[43m(\u001b[49m\u001b[38;5;241;43m*\u001b[39;49m\u001b[43margs\u001b[49m\u001b[43m,\u001b[49m\u001b[43m \u001b[49m\u001b[38;5;241;43m*\u001b[39;49m\u001b[38;5;241;43m*\u001b[39;49m\u001b[43mkwargs\u001b[49m\u001b[43m)\u001b[49m\n\u001b[0;32m    289\u001b[0m \u001b[38;5;28;01melif\u001b[39;00m \u001b[38;5;28mhasattr\u001b[39m(logger, \u001b[38;5;124m\"\u001b[39m\u001b[38;5;124mpackage_logger\u001b[39m\u001b[38;5;124m\"\u001b[39m):\n",
      "File \u001b[1;32mc:\\Users\\dvolf\\python_projects\\azure_dp_100_2025\\dp100_ds_associate_azure\\.venv\\Lib\\site-packages\\azure\\ai\\ml\\operations\\_data_operations.py:554\u001b[0m, in \u001b[0;36mDataOperations._validate\u001b[1;34m(self, data)\u001b[0m\n\u001b[0;32m    553\u001b[0m \u001b[38;5;28;01melse\u001b[39;00m:\n\u001b[1;32m--> 554\u001b[0m     metadata_contents \u001b[38;5;241m=\u001b[39m \u001b[43mread_local_mltable_metadata_contents\u001b[49m\u001b[43m(\u001b[49m\u001b[43mpath\u001b[49m\u001b[38;5;241;43m=\u001b[39;49m\u001b[43masset_path\u001b[49m\u001b[43m)\u001b[49m\n\u001b[0;32m    555\u001b[0m     metadata_yaml_path \u001b[38;5;241m=\u001b[39m Path(asset_path, \u001b[38;5;124m\"\u001b[39m\u001b[38;5;124mMLTable\u001b[39m\u001b[38;5;124m\"\u001b[39m)\n",
      "File \u001b[1;32mc:\\Users\\dvolf\\python_projects\\azure_dp_100_2025\\dp100_ds_associate_azure\\.venv\\Lib\\site-packages\\azure\\ai\\ml\\_utils\\_data_utils.py:37\u001b[0m, in \u001b[0;36mread_local_mltable_metadata_contents\u001b[1;34m(path)\u001b[0m\n\u001b[0;32m     36\u001b[0m metadata_path \u001b[38;5;241m=\u001b[39m \u001b[38;5;28mstr\u001b[39m(Path(path, \u001b[38;5;124m\"\u001b[39m\u001b[38;5;124mMLTable\u001b[39m\u001b[38;5;124m\"\u001b[39m))\n\u001b[1;32m---> 37\u001b[0m \u001b[38;5;28;01mreturn\u001b[39;00m \u001b[43mload_yaml\u001b[49m\u001b[43m(\u001b[49m\u001b[43mmetadata_path\u001b[49m\u001b[43m)\u001b[49m\n",
      "File \u001b[1;32mc:\\Users\\dvolf\\python_projects\\azure_dp_100_2025\\dp100_ds_associate_azure\\.venv\\Lib\\site-packages\\azure\\ai\\ml\\_utils\\utils.py:316\u001b[0m, in \u001b[0;36mload_yaml\u001b[1;34m(source)\u001b[0m\n\u001b[0;32m    315\u001b[0m         msg \u001b[38;5;241m=\u001b[39m \u001b[38;5;124m\"\u001b[39m\u001b[38;5;124mNo such file or directory: \u001b[39m\u001b[38;5;132;01m{}\u001b[39;00m\u001b[38;5;124m\"\u001b[39m\n\u001b[1;32m--> 316\u001b[0m         \u001b[38;5;28;01mraise\u001b[39;00m ValidationException(\n\u001b[0;32m    317\u001b[0m             message\u001b[38;5;241m=\u001b[39mmsg\u001b[38;5;241m.\u001b[39mformat(source),\n\u001b[0;32m    318\u001b[0m             no_personal_data_message\u001b[38;5;241m=\u001b[39mmsg\u001b[38;5;241m.\u001b[39mformat(\u001b[38;5;124m\"\u001b[39m\u001b[38;5;124m[file_path]\u001b[39m\u001b[38;5;124m\"\u001b[39m),\n\u001b[0;32m    319\u001b[0m             error_category\u001b[38;5;241m=\u001b[39mErrorCategory\u001b[38;5;241m.\u001b[39mUSER_ERROR,\n\u001b[0;32m    320\u001b[0m             target\u001b[38;5;241m=\u001b[39mErrorTarget\u001b[38;5;241m.\u001b[39mGENERAL,\n\u001b[0;32m    321\u001b[0m             error_type\u001b[38;5;241m=\u001b[39mValidationErrorType\u001b[38;5;241m.\u001b[39mFILE_OR_FOLDER_NOT_FOUND,\n\u001b[0;32m    322\u001b[0m         ) \u001b[38;5;28;01mfrom\u001b[39;00m\u001b[38;5;250m \u001b[39m\u001b[38;5;21;01me\u001b[39;00m\n\u001b[0;32m    323\u001b[0m \u001b[38;5;28;01melse\u001b[39;00m:\n\u001b[0;32m    324\u001b[0m     \u001b[38;5;66;03m# source is a subclass of IO\u001b[39;00m\n",
      "\u001b[1;31mValidationException\u001b[0m: No such file or directory: C:\\Users\\dvolf\\python_projects\\azure_dp_100_2025\\dp100_ds_associate_azure\\3_module_2_experiment_ml_flow\\diabetes.csv\\MLTable",
      "\nDuring handling of the above exception, another exception occurred:\n",
      "\u001b[1;31mMlException\u001b[0m                               Traceback (most recent call last)",
      "Cell \u001b[1;32mIn[9], line 12\u001b[0m\n\u001b[0;32m      3\u001b[0m diabetes_mltable \u001b[38;5;241m=\u001b[39m Data(\n\u001b[0;32m      4\u001b[0m     path\u001b[38;5;241m=\u001b[39mdiabetes_path,\n\u001b[0;32m      5\u001b[0m     \u001b[38;5;28mtype\u001b[39m\u001b[38;5;241m=\u001b[39mAssetTypes\u001b[38;5;241m.\u001b[39mMLTABLE,  \u001b[38;5;66;03m# Note the change from URI_FILE to MLTABLE\u001b[39;00m\n\u001b[1;32m   (...)\u001b[0m\n\u001b[0;32m      8\u001b[0m     version\u001b[38;5;241m=\u001b[39m\u001b[38;5;124m\"\u001b[39m\u001b[38;5;124m1\u001b[39m\u001b[38;5;124m\"\u001b[39m\n\u001b[0;32m      9\u001b[0m )\n\u001b[0;32m     11\u001b[0m \u001b[38;5;66;03m# Register the MLTable asset\u001b[39;00m\n\u001b[1;32m---> 12\u001b[0m registered_data \u001b[38;5;241m=\u001b[39m \u001b[43mml_client\u001b[49m\u001b[38;5;241;43m.\u001b[39;49m\u001b[43mdata\u001b[49m\u001b[38;5;241;43m.\u001b[39;49m\u001b[43mcreate_or_update\u001b[49m\u001b[43m(\u001b[49m\u001b[43mdiabetes_mltable\u001b[49m\u001b[43m)\u001b[49m\n",
      "File \u001b[1;32mc:\\Users\\dvolf\\python_projects\\azure_dp_100_2025\\dp100_ds_associate_azure\\.venv\\Lib\\site-packages\\azure\\ai\\ml\\_telemetry\\activity.py:288\u001b[0m, in \u001b[0;36mmonitor_with_activity.<locals>.monitor.<locals>.wrapper\u001b[1;34m(*args, **kwargs)\u001b[0m\n\u001b[0;32m    284\u001b[0m     \u001b[38;5;28;01mwith\u001b[39;00m tracer\u001b[38;5;241m.\u001b[39mstart_as_current_span(ACTIVITY_SPAN):\n\u001b[0;32m    285\u001b[0m         \u001b[38;5;28;01mwith\u001b[39;00m log_activity(\n\u001b[0;32m    286\u001b[0m             logger\u001b[38;5;241m.\u001b[39mpackage_logger, activity_name \u001b[38;5;129;01mor\u001b[39;00m f\u001b[38;5;241m.\u001b[39m\u001b[38;5;18m__name__\u001b[39m, activity_type, custom_dimensions\n\u001b[0;32m    287\u001b[0m         ):\n\u001b[1;32m--> 288\u001b[0m             \u001b[38;5;28;01mreturn\u001b[39;00m \u001b[43mf\u001b[49m\u001b[43m(\u001b[49m\u001b[38;5;241;43m*\u001b[39;49m\u001b[43margs\u001b[49m\u001b[43m,\u001b[49m\u001b[43m \u001b[49m\u001b[38;5;241;43m*\u001b[39;49m\u001b[38;5;241;43m*\u001b[39;49m\u001b[43mkwargs\u001b[49m\u001b[43m)\u001b[49m\n\u001b[0;32m    289\u001b[0m \u001b[38;5;28;01melif\u001b[39;00m \u001b[38;5;28mhasattr\u001b[39m(logger, \u001b[38;5;124m\"\u001b[39m\u001b[38;5;124mpackage_logger\u001b[39m\u001b[38;5;124m\"\u001b[39m):\n\u001b[0;32m    290\u001b[0m     \u001b[38;5;28;01mwith\u001b[39;00m log_activity(logger\u001b[38;5;241m.\u001b[39mpackage_logger, activity_name \u001b[38;5;129;01mor\u001b[39;00m f\u001b[38;5;241m.\u001b[39m\u001b[38;5;18m__name__\u001b[39m, activity_type, custom_dimensions):\n",
      "File \u001b[1;32mc:\\Users\\dvolf\\python_projects\\azure_dp_100_2025\\dp100_ds_associate_azure\\.venv\\Lib\\site-packages\\azure\\ai\\ml\\operations\\_data_operations.py:415\u001b[0m, in \u001b[0;36mDataOperations.create_or_update\u001b[1;34m(self, data)\u001b[0m\n\u001b[0;32m    413\u001b[0m \u001b[38;5;28;01mexcept\u001b[39;00m \u001b[38;5;167;01mException\u001b[39;00m \u001b[38;5;28;01mas\u001b[39;00m ex:\n\u001b[0;32m    414\u001b[0m     \u001b[38;5;28;01mif\u001b[39;00m \u001b[38;5;28misinstance\u001b[39m(ex, (ValidationException, SchemaValidationError)):\n\u001b[1;32m--> 415\u001b[0m         \u001b[43mlog_and_raise_error\u001b[49m\u001b[43m(\u001b[49m\u001b[43mex\u001b[49m\u001b[43m)\u001b[49m\n\u001b[0;32m    416\u001b[0m     \u001b[38;5;28;01melif\u001b[39;00m \u001b[38;5;28misinstance\u001b[39m(ex, HttpResponseError):\n\u001b[0;32m    417\u001b[0m         \u001b[38;5;66;03m# service side raises an exception if we attempt to update an existing asset's asset path\u001b[39;00m\n\u001b[0;32m    418\u001b[0m         \u001b[38;5;28;01mif\u001b[39;00m \u001b[38;5;28mstr\u001b[39m(ex) \u001b[38;5;241m==\u001b[39m ASSET_PATH_ERROR:\n",
      "File \u001b[1;32mc:\\Users\\dvolf\\python_projects\\azure_dp_100_2025\\dp100_ds_associate_azure\\.venv\\Lib\\site-packages\\azure\\ai\\ml\\_exception_helper.py:337\u001b[0m, in \u001b[0;36mlog_and_raise_error\u001b[1;34m(error, debug, yaml_operation)\u001b[0m\n\u001b[0;32m    334\u001b[0m \u001b[38;5;28;01melse\u001b[39;00m:\n\u001b[0;32m    335\u001b[0m     \u001b[38;5;28;01mraise\u001b[39;00m error\n\u001b[1;32m--> 337\u001b[0m \u001b[38;5;28;01mraise\u001b[39;00m MlException(message\u001b[38;5;241m=\u001b[39mformatted_error, no_personal_data_message\u001b[38;5;241m=\u001b[39mformatted_error)\n",
      "\u001b[1;31mMlException\u001b[0m: \n\u001b[37m\n\u001b[30m\n1) One or more files or folders do not exist.\n\u001b[39m\u001b[39m\n\nDetails: \n\n\u001b[31m(x) No such file or directory: C:\\Users\\dvolf\\python_projects\\azure_dp_100_2025\\dp100_ds_associate_azure\\3_module_2_experiment_ml_flow\\diabetes.csv\\MLTable\u001b[39m\n\nResolutions: \n1) Double-check the directory path you provided and enter the correct path.\nIf using the CLI, you can also check the full log in debug mode for more details by adding --debug to the end of your command\n\nAdditional Resources: The easiest way to author a yaml specification file is using IntelliSense and auto-completion Azure ML VS code extension provides: \u001b[36mhttps://code.visualstudio.com/docs/datascience/azure-machine-learning.\u001b[39m To set up VS Code, visit \u001b[36mhttps://learn.microsoft.com/azure/machine-learning/how-to-setup-vs-code\u001b[39m\n"
     ]
    }
   ],
   "source": [
    "diabetes_path = r\"C:\\Users\\dvolf\\python_projects\\azure_dp_100_2025\\dp100_ds_associate_azure\\3_module_2_experiment_ml_flow\\diabetes.csv\"\n",
    "\n",
    "diabetes_mltable = Data(\n",
    "    path=diabetes_path,\n",
    "    type=AssetTypes.MLTABLE,  # Note the change from URI_FILE to MLTABLE\n",
    "    description=\"Diabetes dataset as MLTable format\",\n",
    "    name=\"diabetes_mltable\",\n",
    "    version=\"1\"\n",
    ")\n",
    "\n",
    "# Register the MLTable asset\n",
    "registered_data = ml_client.data.create_or_update(diabetes_mltable)"
   ]
  },
  {
   "cell_type": "code",
   "execution_count": null,
   "metadata": {},
   "outputs": [],
   "source": []
  },
  {
   "cell_type": "code",
   "execution_count": null,
   "metadata": {},
   "outputs": [],
   "source": []
  },
  {
   "cell_type": "code",
   "execution_count": null,
   "metadata": {},
   "outputs": [],
   "source": []
  },
  {
   "cell_type": "code",
   "execution_count": null,
   "metadata": {},
   "outputs": [],
   "source": []
  },
  {
   "cell_type": "code",
   "execution_count": null,
   "metadata": {},
   "outputs": [],
   "source": []
  },
  {
   "cell_type": "code",
   "execution_count": null,
   "metadata": {},
   "outputs": [],
   "source": []
  },
  {
   "cell_type": "code",
   "execution_count": null,
   "metadata": {},
   "outputs": [],
   "source": []
  },
  {
   "cell_type": "code",
   "execution_count": null,
   "metadata": {},
   "outputs": [],
   "source": []
  },
  {
   "cell_type": "markdown",
   "metadata": {},
   "source": [
    "## To create a URI file data asset, you can use the following code:\n",
    "\n"
   ]
  },
  {
   "cell_type": "code",
   "execution_count": 9,
   "metadata": {},
   "outputs": [
    {
     "name": "stderr",
     "output_type": "stream",
     "text": [
      "Uploading diabetes.csv (< 1 MB): 0.00B [00:00, ?B/s] (< 1 MB): 100%|##########| 528k/528k [00:00<00:00, 1.07MB/s] (< 1 MB): 100%|##########| 528k/528k [00:00<00:00, 1.07MB/s]\n",
      "\n",
      "\n"
     ]
    },
    {
     "data": {
      "text/plain": [
       "Data({'path': 'azureml://subscriptions/6f83b388-7253-46ac-a2f7-300b7e3f313e/resourcegroups/pbi-dvo-rg/workspaces/dp100dvoML/datastores/workspaceblobstore/paths/LocalUpload/a01a5b9f954664cdfd935246b25e7f69/diabetes.csv', 'skip_validation': False, 'mltable_schema_url': None, 'referenced_uris': None, 'type': 'uri_file', 'is_anonymous': False, 'auto_increment_version': False, 'auto_delete_setting': None, 'name': 'diabetes_csv', 'description': 'its my test csv data', 'tags': {}, 'properties': {}, 'print_as_yaml': False, 'id': '/subscriptions/6f83b388-7253-46ac-a2f7-300b7e3f313e/resourceGroups/pbi-dvo-rg/providers/Microsoft.MachineLearningServices/workspaces/dp100dvoML/data/diabetes_csv/versions/01', 'Resource__source_path': '', 'base_path': 'c:\\\\Users\\\\dvolf\\\\python_projects\\\\azure_dp_100_2025\\\\dp100_ds_associate_azure\\\\module_2_explore_azure_ml\\\\module_2_3', 'creation_context': <azure.ai.ml.entities._system_data.SystemData object at 0x00000270417FF7D0>, 'serialize': <msrest.serialization.Serializer object at 0x00000270417FE8D0>, 'version': '01', 'latest_version': None, 'datastore': None})"
      ]
     },
     "execution_count": 9,
     "metadata": {},
     "output_type": "execute_result"
    }
   ],
   "source": [
    "from azure.ai.ml.entities import Data\n",
    "from azure.ai.ml.constants import AssetTypes\n",
    "\n",
    "# my_path = r'module_2_explore_azure_ml\\module_2_3\\diabetes.csv'\n",
    "my_path = r\"C:\\Users\\dvolf\\python_projects\\azure_dp_100_2025\\dp100_ds_associate_azure\\module_2_explore_azure_ml\\module_2_3\\diabetes.csv\"\n",
    "\n",
    "my_data = Data(\n",
    "    path=my_path,\n",
    "    type=AssetTypes.URI_FILE,\n",
    "    description=\"its my test csv data\",\n",
    "    name=\"diabetes_csv\",\n",
    "    version=\"01\"\n",
    ")\n",
    "\n",
    "ml_client.data.create_or_update(my_data)"
   ]
  },
  {
   "cell_type": "code",
   "execution_count": null,
   "metadata": {},
   "outputs": [],
   "source": []
  },
  {
   "cell_type": "code",
   "execution_count": 11,
   "metadata": {},
   "outputs": [
    {
     "name": "stderr",
     "output_type": "stream",
     "text": [
      "Uploading module_2_3 (0.53 MBs): 100%|##########| 534459/534459 [00:00<00:00, 812995.96it/s]\n",
      "\n",
      "\n"
     ]
    },
    {
     "data": {
      "text/plain": [
       "Data({'path': 'azureml://subscriptions/6f83b388-7253-46ac-a2f7-300b7e3f313e/resourcegroups/pbi-dvo-rg/workspaces/dp100dvoML/datastores/workspaceblobstore/paths/LocalUpload/e97a9cbc2d56aa5fed6747b53615fc7e/module_2_3/', 'skip_validation': False, 'mltable_schema_url': None, 'referenced_uris': None, 'type': 'uri_folder', 'is_anonymous': False, 'auto_increment_version': False, 'auto_delete_setting': None, 'name': 'diabetes-folder', 'description': 'my test folder with data', 'tags': {}, 'properties': {}, 'print_as_yaml': False, 'id': '/subscriptions/6f83b388-7253-46ac-a2f7-300b7e3f313e/resourceGroups/pbi-dvo-rg/providers/Microsoft.MachineLearningServices/workspaces/dp100dvoML/data/diabetes-folder/versions/02', 'Resource__source_path': '', 'base_path': 'c:\\\\Users\\\\dvolf\\\\python_projects\\\\azure_dp_100_2025\\\\dp100_ds_associate_azure\\\\module_2_explore_azure_ml\\\\module_2_3', 'creation_context': <azure.ai.ml.entities._system_data.SystemData object at 0x000002704223DEB0>, 'serialize': <msrest.serialization.Serializer object at 0x00000270424AE660>, 'version': '02', 'latest_version': None, 'datastore': None})"
      ]
     },
     "execution_count": 11,
     "metadata": {},
     "output_type": "execute_result"
    }
   ],
   "source": [
    "from azure.ai.ml.entities import Data\n",
    "from azure.ai.ml.constants import AssetTypes\n",
    "\n",
    "my_path_folder = r'C:\\Users\\dvolf\\python_projects\\azure_dp_100_2025\\dp100_ds_associate_azure\\module_2_explore_azure_ml\\module_2_3'\n",
    "\n",
    "my_data_folder = Data(\n",
    "    path=my_path_folder,\n",
    "    type=AssetTypes.URI_FOLDER,\n",
    "    description=\"my test folder with data\",\n",
    "    name=\"diabetes-folder\",\n",
    "    version='02'\n",
    ")\n",
    "\n",
    "ml_client.data.create_or_update(my_data_folder)"
   ]
  },
  {
   "cell_type": "code",
   "execution_count": null,
   "metadata": {},
   "outputs": [],
   "source": []
  },
  {
   "cell_type": "code",
   "execution_count": null,
   "metadata": {},
   "outputs": [],
   "source": []
  }
 ],
 "metadata": {
  "kernelspec": {
   "display_name": ".venv",
   "language": "python",
   "name": "python3"
  },
  "language_info": {
   "codemirror_mode": {
    "name": "ipython",
    "version": 3
   },
   "file_extension": ".py",
   "mimetype": "text/x-python",
   "name": "python",
   "nbconvert_exporter": "python",
   "pygments_lexer": "ipython3",
   "version": "3.12.4"
  }
 },
 "nbformat": 4,
 "nbformat_minor": 2
}
