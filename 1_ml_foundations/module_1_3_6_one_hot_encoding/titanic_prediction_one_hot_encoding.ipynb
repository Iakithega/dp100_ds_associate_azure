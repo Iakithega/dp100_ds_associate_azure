{
 "cells": [
  {
   "cell_type": "code",
   "execution_count": 5,
   "metadata": {},
   "outputs": [
    {
     "name": "stderr",
     "output_type": "stream",
     "text": [
      "C:\\Users\\danja\\AppData\\Local\\Temp\\ipykernel_25168\\1184003197.py:10: FutureWarning: A value is trying to be set on a copy of a DataFrame or Series through chained assignment using an inplace method.\n",
      "The behavior will change in pandas 3.0. This inplace method will never work because the intermediate object on which we are setting values always behaves as a copy.\n",
      "\n",
      "For example, when doing 'df[col].method(value, inplace=True)', try using 'df.method({col: value}, inplace=True)' or df[col] = df[col].method(value) instead, to perform the operation inplace on the original object.\n",
      "\n",
      "\n",
      "  dataset[\"Cabin\"].fillna(\"Unknown\", inplace=True)\n"
     ]
    },
    {
     "data": {
      "text/html": [
       "<div>\n",
       "<style scoped>\n",
       "    .dataframe tbody tr th:only-of-type {\n",
       "        vertical-align: middle;\n",
       "    }\n",
       "\n",
       "    .dataframe tbody tr th {\n",
       "        vertical-align: top;\n",
       "    }\n",
       "\n",
       "    .dataframe thead th {\n",
       "        text-align: right;\n",
       "    }\n",
       "</style>\n",
       "<table border=\"1\" class=\"dataframe\">\n",
       "  <thead>\n",
       "    <tr style=\"text-align: right;\">\n",
       "      <th></th>\n",
       "      <th>Survived</th>\n",
       "      <th>Pclass</th>\n",
       "      <th>Sex</th>\n",
       "      <th>Age</th>\n",
       "      <th>SibSp</th>\n",
       "      <th>Parch</th>\n",
       "      <th>Fare</th>\n",
       "      <th>Cabin</th>\n",
       "      <th>Embarked</th>\n",
       "    </tr>\n",
       "  </thead>\n",
       "  <tbody>\n",
       "    <tr>\n",
       "      <th>0</th>\n",
       "      <td>0</td>\n",
       "      <td>3</td>\n",
       "      <td>male</td>\n",
       "      <td>22.0</td>\n",
       "      <td>1</td>\n",
       "      <td>0</td>\n",
       "      <td>7.2500</td>\n",
       "      <td>Unknown</td>\n",
       "      <td>S</td>\n",
       "    </tr>\n",
       "    <tr>\n",
       "      <th>1</th>\n",
       "      <td>1</td>\n",
       "      <td>1</td>\n",
       "      <td>female</td>\n",
       "      <td>38.0</td>\n",
       "      <td>1</td>\n",
       "      <td>0</td>\n",
       "      <td>71.2833</td>\n",
       "      <td>C85</td>\n",
       "      <td>C</td>\n",
       "    </tr>\n",
       "    <tr>\n",
       "      <th>2</th>\n",
       "      <td>1</td>\n",
       "      <td>3</td>\n",
       "      <td>female</td>\n",
       "      <td>26.0</td>\n",
       "      <td>0</td>\n",
       "      <td>0</td>\n",
       "      <td>7.9250</td>\n",
       "      <td>Unknown</td>\n",
       "      <td>S</td>\n",
       "    </tr>\n",
       "    <tr>\n",
       "      <th>3</th>\n",
       "      <td>1</td>\n",
       "      <td>1</td>\n",
       "      <td>female</td>\n",
       "      <td>35.0</td>\n",
       "      <td>1</td>\n",
       "      <td>0</td>\n",
       "      <td>53.1000</td>\n",
       "      <td>C123</td>\n",
       "      <td>S</td>\n",
       "    </tr>\n",
       "    <tr>\n",
       "      <th>4</th>\n",
       "      <td>0</td>\n",
       "      <td>3</td>\n",
       "      <td>male</td>\n",
       "      <td>35.0</td>\n",
       "      <td>0</td>\n",
       "      <td>0</td>\n",
       "      <td>8.0500</td>\n",
       "      <td>Unknown</td>\n",
       "      <td>S</td>\n",
       "    </tr>\n",
       "  </tbody>\n",
       "</table>\n",
       "</div>"
      ],
      "text/plain": [
       "   Survived  Pclass     Sex   Age  SibSp  Parch     Fare    Cabin Embarked\n",
       "0         0       3    male  22.0      1      0   7.2500  Unknown        S\n",
       "1         1       1  female  38.0      1      0  71.2833      C85        C\n",
       "2         1       3  female  26.0      0      0   7.9250  Unknown        S\n",
       "3         1       1  female  35.0      1      0  53.1000     C123        S\n",
       "4         0       3    male  35.0      0      0   8.0500  Unknown        S"
      ]
     },
     "execution_count": 5,
     "metadata": {},
     "output_type": "execute_result"
    }
   ],
   "source": [
    "import pandas as pd\n",
    "import requests\n",
    "\n",
    "# !wget https://raw.githubusercontent.com/MicrosoftDocs/mslearn-introduction-to-machine-learning/main/m0c_logistic_regression.py\n",
    "\n",
    "# Open our dataset from file\n",
    "dataset = pd.read_csv(\"titanic.csv\", index_col=False, sep=\",\", header=0)\n",
    "\n",
    "# Fill missing cabin information with 'Unknown'\n",
    "dataset[\"Cabin\"].fillna(\"Unknown\", inplace=True)\n",
    "\n",
    "# Remove rows missing Age information\n",
    "dataset.dropna(subset=[\"Age\"], inplace=True)\n",
    "\n",
    "# Remove the Name, PassengerId, and Ticket fields\n",
    "# This is optional; it makes it easier to read our print-outs\n",
    "dataset.drop([\"PassengerId\", \"Name\", \"Ticket\"], axis=1, inplace=True)\n",
    "\n",
    "dataset.head()"
   ]
  },
  {
   "cell_type": "code",
   "execution_count": 6,
   "metadata": {},
   "outputs": [],
   "source": [
    "# url = \"https://raw.githubusercontent.com/MicrosoftDocs/mslearn-introduction-to-machine-learning/main/m0c_logistic_regression.py\"\n",
    "# response = requests.get(url)\n",
    "\n",
    "# # Save the content to a file\n",
    "# with open(\"logistic_regression.py\", \"w\") as f:\n",
    "#     f.write(response.text)"
   ]
  },
  {
   "cell_type": "markdown",
   "metadata": {},
   "source": [
    "## About Our Model\n",
    "\n",
    "We'll use a model training type known as Logistic Regression, which predicts who survived the Titanic disaster.\n",
    "\n",
    "\n",
    "For this exercise, you don't need to understand logistic regression. We placed the implementation outside this notebook in a method called `train_logistic_regression`. If you're curious, you can read this method in our GitHub repository.\n",
    "\n",
    "The `train_logistic_regression` method:\n",
    "\n",
    "1. Accepts our data frame, and a list of features, to include in the model. \n",
    "2. Trains the model.\n",
    "3. Returns a number that states how well the model performs as it predicts passenger survival. **Smaller numbers are better.**\n",
    "\n",
    "## Numerical Only\n",
    "\n",
    "Let's create a model that uses only the numerical features.\n",
    "\n",
    "First, we'll use `Pclass` as an ordinal feature, rather than a one-hot encoded categorical feature."
   ]
  },
  {
   "cell_type": "code",
   "execution_count": 9,
   "metadata": {},
   "outputs": [
    {
     "name": "stdout",
     "output_type": "stream",
     "text": [
      "Numerical-Only, Log-Loss (cost): 0.6121682789483452\n"
     ]
    }
   ],
   "source": [
    "from m0c_logistic_regression import train_logistic_regression\n",
    "\n",
    "features = [\"Age\", \"Pclass\", \"SibSp\", \"Parch\", \"Fare\"] \n",
    "loss_numerical_only = train_logistic_regression(dataset, features)\n",
    "\n",
    "print(f\"Numerical-Only, Log-Loss (cost): {loss_numerical_only}\")"
   ]
  },
  {
   "cell_type": "markdown",
   "metadata": {},
   "source": [
    "We have our starting point. Let's see if categorical features will improve the model.\n",
    "\n",
    "## Binary Categorical Features\n",
    "\n",
    "Categorical features with only two potential values - for example, `0` or `1` - can be encoded in a single column.\n",
    "\n",
    "We'll convert `Sex` values into `IsFemale` - a `0` for male and `1` for female - and include that in our model."
   ]
  },
  {
   "cell_type": "code",
   "execution_count": 12,
   "metadata": {},
   "outputs": [
    {
     "name": "stderr",
     "output_type": "stream",
     "text": [
      "C:\\Users\\danja\\AppData\\Local\\Temp\\ipykernel_25168\\2048492645.py:3: FutureWarning: Downcasting behavior in `replace` is deprecated and will be removed in a future version. To retain the old behavior, explicitly call `result.infer_objects(copy=False)`. To opt-in to the future behavior, set `pd.set_option('future.no_silent_downcasting', True)`\n",
      "  dataset[\"IsFemale\"] = dataset.Sex.replace({'male':0, 'female':1})\n"
     ]
    }
   ],
   "source": [
    "# Swap male / female with numerical values\n",
    "# We can do this because there are only two categories\n",
    "dataset[\"IsFemale\"] = dataset.Sex.replace({'male':0, 'female':1})\n",
    "\n",
    "\n",
    "# Run and test the model, also using IsFemale this time\n",
    "features = [\"Age\", \"Pclass\", \"SibSp\", \"Parch\", \"Fare\", \"IsFemale\"] \n",
    "loss_binary_categoricals = train_logistic_regression(dataset, features)\n",
    "\n"
   ]
  },
  {
   "cell_type": "code",
   "execution_count": 13,
   "metadata": {},
   "outputs": [
    {
     "name": "stdout",
     "output_type": "stream",
     "text": [
      "\n",
      "Numerical + Sex, Log-Loss (cost): 0.4707118586956134\n"
     ]
    }
   ],
   "source": [
    "print(f\"\\nNumerical + Sex, Log-Loss (cost): {loss_binary_categoricals}\")"
   ]
  },
  {
   "cell_type": "markdown",
   "metadata": {},
   "source": [
    "Our loss (error) decreased! This model performs better than the previous model.\n",
    "\n",
    "## One-Hot Encoding\n",
    "\n",
    "Ticket class (`Pclass`) is an Ordinal feature. Its potential values (1, 2 & 3) have an order, and they have equal spacing. However, this even spacing might be incorrect. In stories about the Titanic, the third-class passengers were treated much worse than those in 1st and 2nd class.\n",
    "\n",
    "Let's convert `Pclass` into a categorical feature with one-hot encoding:"
   ]
  },
  {
   "cell_type": "code",
   "execution_count": 15,
   "metadata": {},
   "outputs": [
    {
     "data": {
      "text/plain": [
       "'Possible values for PClass: [3 1 2]'"
      ]
     },
     "execution_count": 15,
     "metadata": {},
     "output_type": "execute_result"
    }
   ],
   "source": [
    "# Get all possible categories for the \"PClass\" column\n",
    "f\"Possible values for PClass: {dataset['Pclass'].unique()}\"\n",
    "\n"
   ]
  },
  {
   "cell_type": "code",
   "execution_count": 20,
   "metadata": {},
   "outputs": [
    {
     "data": {
      "text/html": [
       "<div>\n",
       "<style scoped>\n",
       "    .dataframe tbody tr th:only-of-type {\n",
       "        vertical-align: middle;\n",
       "    }\n",
       "\n",
       "    .dataframe tbody tr th {\n",
       "        vertical-align: top;\n",
       "    }\n",
       "\n",
       "    .dataframe thead th {\n",
       "        text-align: right;\n",
       "    }\n",
       "</style>\n",
       "<table border=\"1\" class=\"dataframe\">\n",
       "  <thead>\n",
       "    <tr style=\"text-align: right;\">\n",
       "      <th></th>\n",
       "      <th>Survived</th>\n",
       "      <th>Sex</th>\n",
       "      <th>Age</th>\n",
       "      <th>SibSp</th>\n",
       "      <th>Parch</th>\n",
       "      <th>Fare</th>\n",
       "      <th>Cabin</th>\n",
       "      <th>Embarked</th>\n",
       "      <th>IsFemale</th>\n",
       "      <th>Pclass_1</th>\n",
       "      <th>Pclass_2</th>\n",
       "      <th>Pclass_3</th>\n",
       "      <th>Pclass</th>\n",
       "    </tr>\n",
       "  </thead>\n",
       "  <tbody>\n",
       "    <tr>\n",
       "      <th>0</th>\n",
       "      <td>0</td>\n",
       "      <td>male</td>\n",
       "      <td>22.0</td>\n",
       "      <td>1</td>\n",
       "      <td>0</td>\n",
       "      <td>7.2500</td>\n",
       "      <td>Unknown</td>\n",
       "      <td>S</td>\n",
       "      <td>0</td>\n",
       "      <td>0</td>\n",
       "      <td>0</td>\n",
       "      <td>1</td>\n",
       "      <td>3</td>\n",
       "    </tr>\n",
       "    <tr>\n",
       "      <th>1</th>\n",
       "      <td>1</td>\n",
       "      <td>female</td>\n",
       "      <td>38.0</td>\n",
       "      <td>1</td>\n",
       "      <td>0</td>\n",
       "      <td>71.2833</td>\n",
       "      <td>C85</td>\n",
       "      <td>C</td>\n",
       "      <td>1</td>\n",
       "      <td>1</td>\n",
       "      <td>0</td>\n",
       "      <td>0</td>\n",
       "      <td>1</td>\n",
       "    </tr>\n",
       "    <tr>\n",
       "      <th>2</th>\n",
       "      <td>1</td>\n",
       "      <td>female</td>\n",
       "      <td>26.0</td>\n",
       "      <td>0</td>\n",
       "      <td>0</td>\n",
       "      <td>7.9250</td>\n",
       "      <td>Unknown</td>\n",
       "      <td>S</td>\n",
       "      <td>1</td>\n",
       "      <td>0</td>\n",
       "      <td>0</td>\n",
       "      <td>1</td>\n",
       "      <td>3</td>\n",
       "    </tr>\n",
       "    <tr>\n",
       "      <th>3</th>\n",
       "      <td>1</td>\n",
       "      <td>female</td>\n",
       "      <td>35.0</td>\n",
       "      <td>1</td>\n",
       "      <td>0</td>\n",
       "      <td>53.1000</td>\n",
       "      <td>C123</td>\n",
       "      <td>S</td>\n",
       "      <td>1</td>\n",
       "      <td>1</td>\n",
       "      <td>0</td>\n",
       "      <td>0</td>\n",
       "      <td>1</td>\n",
       "    </tr>\n",
       "    <tr>\n",
       "      <th>4</th>\n",
       "      <td>0</td>\n",
       "      <td>male</td>\n",
       "      <td>35.0</td>\n",
       "      <td>0</td>\n",
       "      <td>0</td>\n",
       "      <td>8.0500</td>\n",
       "      <td>Unknown</td>\n",
       "      <td>S</td>\n",
       "      <td>0</td>\n",
       "      <td>0</td>\n",
       "      <td>0</td>\n",
       "      <td>1</td>\n",
       "      <td>3</td>\n",
       "    </tr>\n",
       "  </tbody>\n",
       "</table>\n",
       "</div>"
      ],
      "text/plain": [
       "   Survived     Sex   Age  SibSp  Parch     Fare    Cabin Embarked  IsFemale  \\\n",
       "0         0    male  22.0      1      0   7.2500  Unknown        S         0   \n",
       "1         1  female  38.0      1      0  71.2833      C85        C         1   \n",
       "2         1  female  26.0      0      0   7.9250  Unknown        S         1   \n",
       "3         1  female  35.0      1      0  53.1000     C123        S         1   \n",
       "4         0    male  35.0      0      0   8.0500  Unknown        S         0   \n",
       "\n",
       "   Pclass_1  Pclass_2  Pclass_3  Pclass  \n",
       "0         0         0         1       3  \n",
       "1         1         0         0       1  \n",
       "2         0         0         1       3  \n",
       "3         1         0         0       1  \n",
       "4         0         0         1       3  "
      ]
     },
     "execution_count": 20,
     "metadata": {},
     "output_type": "execute_result"
    }
   ],
   "source": [
    "# Use Pandas to One-Hot encode the PClass category\n",
    "dataset_with_one_hot = pd.get_dummies(dataset, columns=[\"Pclass\"], drop_first=False, dtype=int)\n",
    "\n",
    "# Add back in the old Pclass column, for learning purposes\n",
    "dataset_with_one_hot[\"Pclass\"] = dataset[\"Pclass\"]\n",
    "\n",
    "# Print out the first few rows\n",
    "dataset_with_one_hot.head()"
   ]
  },
  {
   "cell_type": "code",
   "execution_count": 21,
   "metadata": {},
   "outputs": [],
   "source": [
    "# Run and test the model, also using Pclass as a categorical feature this time\n",
    "features = [\"Age\", \"SibSp\", \"Parch\", \"Fare\", \"IsFemale\",\n",
    "            \"Pclass_1\", \"Pclass_2\", \"Pclass_3\"]\n",
    "\n",
    "loss_pclass_categorical = train_logistic_regression(dataset_with_one_hot, features)\n",
    "\n"
   ]
  },
  {
   "cell_type": "code",
   "execution_count": 22,
   "metadata": {},
   "outputs": [
    {
     "name": "stdout",
     "output_type": "stream",
     "text": [
      "\n",
      "Numerical, Sex, Categorical Pclass, Log-Loss (cost): 0.4717353503703535\n"
     ]
    }
   ],
   "source": [
    "print(f\"\\nNumerical, Sex, Categorical Pclass, Log-Loss (cost): {loss_pclass_categorical}\")"
   ]
  },
  {
   "cell_type": "markdown",
   "metadata": {},
   "source": [
    "This seems to have made things slightly worse!\n",
    "\n",
    "Let's move on.\n",
    "\n",
    "\n",
    "## Including Cabin\n",
    "\n",
    "Recall that many passengers had `Cabin` information. `Cabin` is a categorical feature and should be a good predictor of survival, because people in lower cabins probably had little time to escape during the sinking.\n",
    "\n",
    "Let's encode cabin using one-hot vectors, and include it in a model. This time, there are so many cabins that we won't print them all out. To practice printing them out, feel free to edit the code for practice."
   ]
  },
  {
   "cell_type": "code",
   "execution_count": 43,
   "metadata": {},
   "outputs": [
    {
     "name": "stdout",
     "output_type": "stream",
     "text": [
      "135 cabins found\n"
     ]
    }
   ],
   "source": [
    "# Use Pandas to One-Hot encode the Cabin and Pclass categories\n",
    "dataset_with_one_hot = pd.get_dummies(dataset, columns=[\"Pclass\", \"Cabin\"], drop_first=False, dtype=int)\n",
    "\n",
    "# Find cabin column names\n",
    "cabin_column_names = list(c for c in dataset_with_one_hot.columns if c.startswith(\"Cabin_\"))\n",
    "\n",
    "# Print out how many cabins there were\n",
    "print(len(cabin_column_names), \"cabins found\")\n",
    "\n"
   ]
  },
  {
   "cell_type": "code",
   "execution_count": 44,
   "metadata": {},
   "outputs": [
    {
     "data": {
      "text/plain": [
       "['Cabin_A10',\n",
       " 'Cabin_A16',\n",
       " 'Cabin_A20',\n",
       " 'Cabin_A23',\n",
       " 'Cabin_A24',\n",
       " 'Cabin_A26',\n",
       " 'Cabin_A31',\n",
       " 'Cabin_A34',\n",
       " 'Cabin_A36',\n",
       " 'Cabin_A5',\n",
       " 'Cabin_A6',\n",
       " 'Cabin_A7',\n",
       " 'Cabin_B101',\n",
       " 'Cabin_B18',\n",
       " 'Cabin_B19',\n",
       " 'Cabin_B20',\n",
       " 'Cabin_B22',\n",
       " 'Cabin_B28',\n",
       " 'Cabin_B3',\n",
       " 'Cabin_B30',\n",
       " 'Cabin_B35',\n",
       " 'Cabin_B37',\n",
       " 'Cabin_B38',\n",
       " 'Cabin_B39',\n",
       " 'Cabin_B4',\n",
       " 'Cabin_B41',\n",
       " 'Cabin_B42',\n",
       " 'Cabin_B49',\n",
       " 'Cabin_B5',\n",
       " 'Cabin_B50',\n",
       " 'Cabin_B51 B53 B55',\n",
       " 'Cabin_B57 B59 B63 B66',\n",
       " 'Cabin_B58 B60',\n",
       " 'Cabin_B69',\n",
       " 'Cabin_B71',\n",
       " 'Cabin_B73',\n",
       " 'Cabin_B77',\n",
       " 'Cabin_B79',\n",
       " 'Cabin_B80',\n",
       " 'Cabin_B82 B84',\n",
       " 'Cabin_B86',\n",
       " 'Cabin_B94',\n",
       " 'Cabin_B96 B98',\n",
       " 'Cabin_C101',\n",
       " 'Cabin_C103',\n",
       " 'Cabin_C104',\n",
       " 'Cabin_C110',\n",
       " 'Cabin_C111',\n",
       " 'Cabin_C118',\n",
       " 'Cabin_C123',\n",
       " 'Cabin_C124',\n",
       " 'Cabin_C125',\n",
       " 'Cabin_C126',\n",
       " 'Cabin_C148',\n",
       " 'Cabin_C2',\n",
       " 'Cabin_C22 C26',\n",
       " 'Cabin_C23 C25 C27',\n",
       " 'Cabin_C30',\n",
       " 'Cabin_C32',\n",
       " 'Cabin_C45',\n",
       " 'Cabin_C46',\n",
       " 'Cabin_C49',\n",
       " 'Cabin_C50',\n",
       " 'Cabin_C52',\n",
       " 'Cabin_C54',\n",
       " 'Cabin_C62 C64',\n",
       " 'Cabin_C65',\n",
       " 'Cabin_C68',\n",
       " 'Cabin_C7',\n",
       " 'Cabin_C70',\n",
       " 'Cabin_C78',\n",
       " 'Cabin_C82',\n",
       " 'Cabin_C83',\n",
       " 'Cabin_C85',\n",
       " 'Cabin_C86',\n",
       " 'Cabin_C87',\n",
       " 'Cabin_C90',\n",
       " 'Cabin_C91',\n",
       " 'Cabin_C92',\n",
       " 'Cabin_C93',\n",
       " 'Cabin_C99',\n",
       " 'Cabin_D',\n",
       " 'Cabin_D10 D12',\n",
       " 'Cabin_D11',\n",
       " 'Cabin_D15',\n",
       " 'Cabin_D17',\n",
       " 'Cabin_D19',\n",
       " 'Cabin_D20',\n",
       " 'Cabin_D26',\n",
       " 'Cabin_D28',\n",
       " 'Cabin_D30',\n",
       " 'Cabin_D33',\n",
       " 'Cabin_D35',\n",
       " 'Cabin_D36',\n",
       " 'Cabin_D37',\n",
       " 'Cabin_D46',\n",
       " 'Cabin_D47',\n",
       " 'Cabin_D48',\n",
       " 'Cabin_D49',\n",
       " 'Cabin_D50',\n",
       " 'Cabin_D56',\n",
       " 'Cabin_D6',\n",
       " 'Cabin_D7',\n",
       " 'Cabin_D9',\n",
       " 'Cabin_E10',\n",
       " 'Cabin_E101',\n",
       " 'Cabin_E12',\n",
       " 'Cabin_E121',\n",
       " 'Cabin_E17',\n",
       " 'Cabin_E24',\n",
       " 'Cabin_E25',\n",
       " 'Cabin_E31',\n",
       " 'Cabin_E33',\n",
       " 'Cabin_E34',\n",
       " 'Cabin_E36',\n",
       " 'Cabin_E38',\n",
       " 'Cabin_E40',\n",
       " 'Cabin_E44',\n",
       " 'Cabin_E46',\n",
       " 'Cabin_E49',\n",
       " 'Cabin_E50',\n",
       " 'Cabin_E58',\n",
       " 'Cabin_E63',\n",
       " 'Cabin_E67',\n",
       " 'Cabin_E68',\n",
       " 'Cabin_E77',\n",
       " 'Cabin_E8',\n",
       " 'Cabin_F G63',\n",
       " 'Cabin_F G73',\n",
       " 'Cabin_F2',\n",
       " 'Cabin_F33',\n",
       " 'Cabin_F4',\n",
       " 'Cabin_G6',\n",
       " 'Cabin_T',\n",
       " 'Cabin_Unknown']"
      ]
     },
     "execution_count": 44,
     "metadata": {},
     "output_type": "execute_result"
    }
   ],
   "source": [
    "cabin_column_names"
   ]
  },
  {
   "cell_type": "code",
   "execution_count": 25,
   "metadata": {},
   "outputs": [],
   "source": [
    "# Make a list of features\n",
    "features = [\"Age\", \"SibSp\", \"Parch\", \"Fare\", \"IsFemale\",\n",
    "            \"Pclass_1\", \"Pclass_2\", \"Pclass_3\"] + \\\n",
    "            cabin_column_names\n",
    "\n",
    "# Run the model and print the result\n",
    "loss_cabin_categorical = train_logistic_regression(dataset_with_one_hot, features)\n",
    "\n"
   ]
  },
  {
   "cell_type": "code",
   "execution_count": 26,
   "metadata": {},
   "outputs": [
    {
     "name": "stdout",
     "output_type": "stream",
     "text": [
      "\n",
      "Numerical, Sex, Categorical Pclass, Cabin, Log-Loss (cost): 0.4600186822653977\n"
     ]
    }
   ],
   "source": [
    "print(f\"\\nNumerical, Sex, Categorical Pclass, Cabin, Log-Loss (cost): {loss_cabin_categorical}\")"
   ]
  },
  {
   "cell_type": "markdown",
   "metadata": {},
   "source": [
    "## Improving Power\n",
    "\n",
    "Including very large numbers of categorical classes (for example, 135 cabins) is often not the best way to train a model. This is because the model has only a few examples of each category class to learn from.\n",
    "\n",
    "Sometimes, we can improve models if we simplify features. `Cabin` probably helped because it indicated the Titanic deck where people were probably located. Those in lower decks would have had their quarters flooded first. \n",
    "\n",
    "It might become simpler to use deck information, instead of categorizing people into Cabins. \n",
    "\n",
    "\n",
    "Let's simplify what we have run, replacing the 135 `Cabin` categories with a simpler `Deck` category that has only 9 values: A - G, T, and U (Unknown):\n"
   ]
  },
  {
   "cell_type": "code",
   "execution_count": 29,
   "metadata": {},
   "outputs": [
    {
     "name": "stdout",
     "output_type": "stream",
     "text": [
      "Decks:  ['A', 'B', 'C', 'D', 'E', 'F', 'G', 'T', 'U']\n"
     ]
    }
   ],
   "source": [
    "# We have cabin names, like A31, G45. The letter refers to the deck that\n",
    "# the cabin was on. Extract just the deck and save it to a column. \n",
    "dataset[\"Deck\"] = [c[0] for c in dataset.Cabin]\n",
    "\n",
    "\n",
    "print(\"Decks: \", sorted(dataset.Deck.unique()))"
   ]
  },
  {
   "cell_type": "code",
   "execution_count": 33,
   "metadata": {},
   "outputs": [],
   "source": [
    "# Create one-hot vectors for:\n",
    "# Pclass - the class of ticket. (This could be treated as ordinal or categorical)\n",
    "# Deck - the deck that the cabin was on\n",
    "dataset_with_one_hot = pd.get_dummies(dataset, columns=[\"Pclass\", \"Deck\"], drop_first=False)\n",
    "\n",
    "# Find the deck names\n",
    "deck_of_cabin_column_names = list(c for c in dataset_with_one_hot.columns if c.startswith(\"Deck_\"))"
   ]
  },
  {
   "cell_type": "code",
   "execution_count": 34,
   "metadata": {},
   "outputs": [
    {
     "data": {
      "text/plain": [
       "['Deck_A',\n",
       " 'Deck_B',\n",
       " 'Deck_C',\n",
       " 'Deck_D',\n",
       " 'Deck_E',\n",
       " 'Deck_F',\n",
       " 'Deck_G',\n",
       " 'Deck_T',\n",
       " 'Deck_U']"
      ]
     },
     "execution_count": 34,
     "metadata": {},
     "output_type": "execute_result"
    }
   ],
   "source": [
    "deck_of_cabin_column_names"
   ]
  },
  {
   "cell_type": "code",
   "execution_count": 35,
   "metadata": {},
   "outputs": [
    {
     "name": "stdout",
     "output_type": "stream",
     "text": [
      "\n",
      "Simplifying Cabin Into Deck, Log-Loss (cost): 0.4588208415238718\n"
     ]
    }
   ],
   "source": [
    "features = [\"Age\", \"IsFemale\", \"SibSp\", \"Parch\", \"Fare\", \n",
    "            \"Pclass_1\", \"Pclass_2\", \"Pclass_3\",\n",
    "            \"Deck_A\", \"Deck_B\", \"Deck_C\", \"Deck_D\", \n",
    "            \"Deck_E\", \"Deck_F\", \"Deck_G\", \"Deck_U\", \"Deck_T\"]\n",
    "\n",
    "loss_deck = train_logistic_regression(dataset_with_one_hot, features)\n",
    "\n",
    "print(f\"\\nSimplifying Cabin Into Deck, Log-Loss (cost): {loss_deck}\")"
   ]
  },
  {
   "cell_type": "code",
   "execution_count": null,
   "metadata": {},
   "outputs": [],
   "source": []
  },
  {
   "cell_type": "code",
   "execution_count": 36,
   "metadata": {},
   "outputs": [
    {
     "data": {
      "text/html": [
       "<div>\n",
       "<style scoped>\n",
       "    .dataframe tbody tr th:only-of-type {\n",
       "        vertical-align: middle;\n",
       "    }\n",
       "\n",
       "    .dataframe tbody tr th {\n",
       "        vertical-align: top;\n",
       "    }\n",
       "\n",
       "    .dataframe thead th {\n",
       "        text-align: right;\n",
       "    }\n",
       "</style>\n",
       "<table border=\"1\" class=\"dataframe\">\n",
       "  <thead>\n",
       "    <tr style=\"text-align: right;\">\n",
       "      <th></th>\n",
       "      <th>Dataset</th>\n",
       "      <th>Log-Loss (Low is better)</th>\n",
       "    </tr>\n",
       "  </thead>\n",
       "  <tbody>\n",
       "    <tr>\n",
       "      <th>0</th>\n",
       "      <td>Numeric Features Only</td>\n",
       "      <td>0.612168</td>\n",
       "    </tr>\n",
       "    <tr>\n",
       "      <th>1</th>\n",
       "      <td>Adding Sex as Binary</td>\n",
       "      <td>0.470712</td>\n",
       "    </tr>\n",
       "    <tr>\n",
       "      <th>2</th>\n",
       "      <td>Treating Pclass as Categorical</td>\n",
       "      <td>0.471735</td>\n",
       "    </tr>\n",
       "    <tr>\n",
       "      <th>3</th>\n",
       "      <td>Using Cabin as Categorical</td>\n",
       "      <td>0.460019</td>\n",
       "    </tr>\n",
       "    <tr>\n",
       "      <th>4</th>\n",
       "      <td>Using Deck rather than Cabin</td>\n",
       "      <td>0.458821</td>\n",
       "    </tr>\n",
       "  </tbody>\n",
       "</table>\n",
       "</div>"
      ],
      "text/plain": [
       "                          Dataset  Log-Loss (Low is better)\n",
       "0           Numeric Features Only                  0.612168\n",
       "1            Adding Sex as Binary                  0.470712\n",
       "2  Treating Pclass as Categorical                  0.471735\n",
       "3      Using Cabin as Categorical                  0.460019\n",
       "4    Using Deck rather than Cabin                  0.458821"
      ]
     },
     "execution_count": 36,
     "metadata": {},
     "output_type": "execute_result"
    }
   ],
   "source": [
    "# Use a dataframe to create a comparison table of metrics\n",
    "# Copy metrics from previous Unit\n",
    "\n",
    "l =[[\"Numeric Features Only\", loss_numerical_only],\n",
    "    [\"Adding Sex as Binary\", loss_binary_categoricals],\n",
    "    [\"Treating Pclass as Categorical\", loss_pclass_categorical],\n",
    "    [\"Using Cabin as Categorical\", loss_cabin_categorical],\n",
    "    [\"Using Deck rather than Cabin\", loss_deck]]\n",
    "\n",
    "pandas.DataFrame(l, columns=[\"Dataset\", \"Log-Loss (Low is better)\"])"
   ]
  },
  {
   "cell_type": "code",
   "execution_count": null,
   "metadata": {},
   "outputs": [],
   "source": []
  },
  {
   "cell_type": "code",
   "execution_count": null,
   "metadata": {},
   "outputs": [],
   "source": []
  }
 ],
 "metadata": {
  "kernelspec": {
   "display_name": ".dp100_azure",
   "language": "python",
   "name": "python3"
  },
  "language_info": {
   "codemirror_mode": {
    "name": "ipython",
    "version": 3
   },
   "file_extension": ".py",
   "mimetype": "text/x-python",
   "name": "python",
   "nbconvert_exporter": "python",
   "pygments_lexer": "ipython3",
   "version": "3.13.1"
  }
 },
 "nbformat": 4,
 "nbformat_minor": 2
}
