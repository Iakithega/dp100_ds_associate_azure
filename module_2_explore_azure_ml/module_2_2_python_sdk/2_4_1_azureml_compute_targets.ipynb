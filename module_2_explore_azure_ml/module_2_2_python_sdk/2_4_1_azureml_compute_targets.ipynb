{
 "cells": [
  {
   "cell_type": "code",
   "execution_count": 1,
   "metadata": {},
   "outputs": [],
   "source": [
    "from azure.ai.ml import MLClient\n",
    "from azure.identity import DefaultAzureCredential, InteractiveBrowserCredential\n",
    "from dotenv import load_dotenv\n",
    "import os\n"
   ]
  },
  {
   "cell_type": "markdown",
   "metadata": {},
   "source": [
    "## Connect to the workspace\n",
    "After the Python SDK is installed, you'll need to connect to the workspace. By connecting, you're authenticating your environment to interact with the workspace to create and manage assets and resources.\n",
    "\n",
    "To authenticate, you need the values to three necessary parameters:\n",
    "\n",
    "#### subscription_id: Your subscription ID.\n",
    "#### resource_group: The name of your resource group.\n",
    "#### workspace_name: The name of your workspace."
   ]
  },
  {
   "cell_type": "code",
   "execution_count": 2,
   "metadata": {},
   "outputs": [],
   "source": [
    "load_dotenv()\n",
    "\n",
    "subscription_id = os.getenv(\"AZURE_SUBSCRIPTION_ID\")\n",
    "resource_group = os.getenv(\"AZURE_RESOURCE_GROUP\")\n",
    "workspace_name = os.getenv(\"AZURE_WORKSPACE_NAME\")\n",
    "\n",
    "\n",
    "\n",
    "try:\n",
    "    credential = DefaultAzureCredential()\n",
    "    # Check if given credential can get token successfully.\n",
    "    credential.get_token(\"https://management.azure.com/.default\")\n",
    "except Exception as ex:\n",
    "    # Fall back to InteractiveBrowserCredential in case DefaultAzureCredential not work\n",
    "    credential = InteractiveBrowserCredential()\n",
    "\n",
    "\n",
    "ml_client = MLClient(\n",
    "    DefaultAzureCredential(), subscription_id, resource_group, workspace_name\n",
    ")"
   ]
  },
  {
   "cell_type": "code",
   "execution_count": 3,
   "metadata": {},
   "outputs": [
    {
     "name": "stdout",
     "output_type": "stream",
     "text": [
      "dvo-CPU-INS-DS11 : computeinstance\n",
      "Datastore: azureml_globaldatasets (Type: DatastoreType.AZURE_BLOB)\n",
      "Datastore: workspaceblobstore (Type: DatastoreType.AZURE_BLOB)\n",
      "Datastore: workspaceworkingdirectory (Type: DatastoreType.AZURE_FILE)\n",
      "Datastore: workspaceartifactstore (Type: DatastoreType.AZURE_BLOB)\n",
      "Datastore: workspacefilestore (Type: DatastoreType.AZURE_FILE)\n"
     ]
    }
   ],
   "source": [
    "# List available compute resources\n",
    "compute_list = ml_client.compute.list()\n",
    "for compute in compute_list:\n",
    "    print(compute.name, \":\", compute.type)\n",
    "\n",
    "\n",
    "# List all datastores in your workspace\n",
    "datastores = ml_client.datastores.list()\n",
    "for datastore in datastores:\n",
    "    print(f\"Datastore: {datastore.name} (Type: {datastore.type})\")"
   ]
  },
  {
   "cell_type": "markdown",
   "metadata": {},
   "source": [
    "## To create a URI file data asset, you can use the following code:\n",
    "\n"
   ]
  },
  {
   "cell_type": "code",
   "execution_count": 5,
   "metadata": {},
   "outputs": [
    {
     "data": {
      "text/plain": [
       "Data({'path': 'azureml://subscriptions/6f83b388-7253-46ac-a2f7-300b7e3f313e/resourcegroups/pbi-dvo-rg/workspaces/dp100dvoML/datastores/workspaceblobstore/paths/LocalUpload/a01a5b9f954664cdfd935246b25e7f69/diabetes.csv', 'skip_validation': False, 'mltable_schema_url': None, 'referenced_uris': None, 'type': 'uri_file', 'is_anonymous': False, 'auto_increment_version': False, 'auto_delete_setting': None, 'name': 'diabetes_csv_2', 'description': 'its my test csv datas', 'tags': {}, 'properties': {}, 'print_as_yaml': False, 'id': '/subscriptions/6f83b388-7253-46ac-a2f7-300b7e3f313e/resourceGroups/pbi-dvo-rg/providers/Microsoft.MachineLearningServices/workspaces/dp100dvoML/data/diabetes_csv_2/versions/02', 'Resource__source_path': '', 'base_path': 'c:\\\\Users\\\\dvolf\\\\python_projects\\\\azure_dp_100_2025\\\\dp100_ds_associate_azure\\\\module_2_explore_azure_ml\\\\module_2_2_python_sdk', 'creation_context': <azure.ai.ml.entities._system_data.SystemData object at 0x000001FFC2CC4BC0>, 'serialize': <msrest.serialization.Serializer object at 0x000001FFC2CC4BF0>, 'version': '02', 'latest_version': None, 'datastore': None})"
      ]
     },
     "execution_count": 5,
     "metadata": {},
     "output_type": "execute_result"
    }
   ],
   "source": [
    "from azure.ai.ml.entities import Data\n",
    "from azure.ai.ml.constants import AssetTypes\n",
    "\n",
    "# my_path = r'module_2_explore_azure_ml\\module_2_3\\diabetes.csv'\n",
    "my_path = r\"C:\\Users\\dvolf\\python_projects\\azure_dp_100_2025\\dp100_ds_associate_azure\\module_2_explore_azure_ml\\module_2_3\\diabetes.csv\"\n",
    "\n",
    "my_data = Data(\n",
    "    path=my_path,\n",
    "    type=AssetTypes.URI_FILE,\n",
    "    description=\"its my test csv datas\",\n",
    "    name=\"diabetes_csv_2\",\n",
    "    version=\"02\"\n",
    ")\n",
    "\n",
    "ml_client.data.create_or_update(my_data)"
   ]
  },
  {
   "cell_type": "code",
   "execution_count": null,
   "metadata": {},
   "outputs": [],
   "source": []
  },
  {
   "cell_type": "code",
   "execution_count": null,
   "metadata": {},
   "outputs": [
    {
     "name": "stderr",
     "output_type": "stream",
     "text": [
      "Uploading module_2_3 (0.53 MBs): 100%|##########| 534459/534459 [00:00<00:00, 812995.96it/s]\n",
      "\n",
      "\n"
     ]
    },
    {
     "data": {
      "text/plain": [
       "Data({'path': 'azureml://subscriptions/6f83b388-7253-46ac-a2f7-300b7e3f313e/resourcegroups/pbi-dvo-rg/workspaces/dp100dvoML/datastores/workspaceblobstore/paths/LocalUpload/e97a9cbc2d56aa5fed6747b53615fc7e/module_2_3/', 'skip_validation': False, 'mltable_schema_url': None, 'referenced_uris': None, 'type': 'uri_folder', 'is_anonymous': False, 'auto_increment_version': False, 'auto_delete_setting': None, 'name': 'diabetes-folder', 'description': 'my test folder with data', 'tags': {}, 'properties': {}, 'print_as_yaml': False, 'id': '/subscriptions/6f83b388-7253-46ac-a2f7-300b7e3f313e/resourceGroups/pbi-dvo-rg/providers/Microsoft.MachineLearningServices/workspaces/dp100dvoML/data/diabetes-folder/versions/02', 'Resource__source_path': '', 'base_path': 'c:\\\\Users\\\\dvolf\\\\python_projects\\\\azure_dp_100_2025\\\\dp100_ds_associate_azure\\\\module_2_explore_azure_ml\\\\module_2_3', 'creation_context': <azure.ai.ml.entities._system_data.SystemData object at 0x000002704223DEB0>, 'serialize': <msrest.serialization.Serializer object at 0x00000270424AE660>, 'version': '02', 'latest_version': None, 'datastore': None})"
      ]
     },
     "execution_count": 11,
     "metadata": {},
     "output_type": "execute_result"
    }
   ],
   "source": [
    "from azure.ai.ml.entities import Data\n",
    "from azure.ai.ml.constants import AssetTypes\n",
    "\n",
    "my_path_folder = r'C:\\Users\\dvolf\\python_projects\\azure_dp_100_2025\\dp100_ds_associate_azure\\module_2_explore_azure_ml\\module_2_3'\n",
    "\n",
    "my_data_folder = Data(\n",
    "    path=my_path_folder,\n",
    "    type=AssetTypes.URI_FOLDER,\n",
    "    description=\"my test folder with data\",\n",
    "    name=\"diabetes-folder\",\n",
    "    version='02'\n",
    ")\n",
    "\n",
    "ml_client.data.create_or_update(my_data_folder)"
   ]
  },
  {
   "cell_type": "code",
   "execution_count": 6,
   "metadata": {},
   "outputs": [
    {
     "data": {
      "text/plain": [
       "ComputeInstance({'state': 'Running', 'last_operation': {'operation_name': 'Create', 'operation_time': '2025-02-27T17:12:26.942Z', 'operation_status': 'Succeeded', 'operation_trigger': 'User'}, 'os_image_metadata': <azure.ai.ml.entities._compute._image_metadata.ImageMetadata object at 0x000001FFC2F3FC80>, 'services': [{'display_name': 'Jupyter', 'endpoint_uri': 'https://basic-ci-danja.northeurope.instances.azureml.ms/tree/'}, {'display_name': 'Jupyter Lab', 'endpoint_uri': 'https://basic-ci-danja.northeurope.instances.azureml.ms/lab'}], 'type': 'computeinstance', 'created_on': '2025-02-27T17:12:19.125632+0000', 'provisioning_state': 'Succeeded', 'provisioning_errors': None, 'name': 'basic-ci-danja', 'description': None, 'tags': None, 'properties': {}, 'print_as_yaml': False, 'id': '/subscriptions/6f83b388-7253-46ac-a2f7-300b7e3f313e/resourceGroups/pbi-dvo-rg/providers/Microsoft.MachineLearningServices/workspaces/dp100dvoML/computes/basic-ci-danja', 'Resource__source_path': '', 'base_path': 'c:\\\\Users\\\\dvolf\\\\python_projects\\\\azure_dp_100_2025\\\\dp100_ds_associate_azure\\\\module_2_explore_azure_ml\\\\module_2_2_python_sdk', 'creation_context': None, 'serialize': <msrest.serialization.Serializer object at 0x000001FFC2BDEC90>, 'resource_id': None, 'location': 'northeurope', 'size': 'STANDARD_DS3_v2', 'ssh_public_access_enabled': False, 'create_on_behalf_of': None, 'network_settings': <azure.ai.ml.entities._compute.compute.NetworkSettings object at 0x000001FFC2F3C980>, 'ssh_settings': <azure.ai.ml.entities._compute.compute_instance.ComputeInstanceSshSettings object at 0x000001FFC2F3E210>, 'schedules': None, 'identity': None, 'idle_time_before_shutdown': None, 'idle_time_before_shutdown_minutes': None, 'setup_scripts': None, 'enable_node_public_ip': True, 'enable_sso': True, 'enable_root_access': True, 'release_quota_on_stop': False, 'enable_os_patching': False, 'custom_applications': None, 'subnet': None})"
      ]
     },
     "execution_count": 6,
     "metadata": {},
     "output_type": "execute_result"
    }
   ],
   "source": [
    "from azure.ai.ml.entities import ComputeInstance\n",
    "\n",
    "ci_basic_name = \"basic-ci-danja\"\n",
    "ci_basic = ComputeInstance(\n",
    "    name=ci_basic_name, \n",
    "    size=\"STANDARD_DS3_v2\"\n",
    ")\n",
    "ml_client.begin_create_or_update(ci_basic).result()"
   ]
  },
  {
   "cell_type": "code",
   "execution_count": 7,
   "metadata": {},
   "outputs": [
    {
     "name": "stdout",
     "output_type": "stream",
     "text": [
      "AzureML-ACPT-pytorch-1.13-py38-cuda11.7-gpu\n",
      "AzureML-TensorFlow2.4-Cuda11-OpenMpi4.1.0-py36\n",
      "AzureML-Scikit-learn0.24-Cuda11-OpenMpi4.1.0-py36\n",
      "AzureML-Pytorch1.7-Cuda11-OpenMpi4.1.0-py36\n"
     ]
    }
   ],
   "source": [
    "envs = ml_client.environments.list()\n",
    "for env in envs:\n",
    "    print(env.name)"
   ]
  },
  {
   "cell_type": "code",
   "execution_count": 12,
   "metadata": {},
   "outputs": [
    {
     "name": "stdout",
     "output_type": "stream",
     "text": [
      "Recommended environment for Deep Learning in public preview with PyTorch on Azure containing the Azure ML SDK with the latest compatible versions of Ubuntu, Python, PyTorch, CUDA\\RocM, combined with optimizers like ORT Training,+DeepSpeed+MSCCL+ORT MoE and more. {'PyTorch': '1.13.0', 'GPU': 'Cuda11', 'OS': 'Ubuntu20.04', 'Training': ''}\n"
     ]
    }
   ],
   "source": [
    "env = ml_client.environments.get(\"AzureML-ACPT-pytorch-1.13-py38-cuda11.7-gpu\", version=\"1\")\n",
    "print(env. description, env.tags)"
   ]
  },
  {
   "cell_type": "code",
   "execution_count": null,
   "metadata": {},
   "outputs": [],
   "source": []
  },
  {
   "cell_type": "code",
   "execution_count": null,
   "metadata": {},
   "outputs": [],
   "source": []
  },
  {
   "cell_type": "code",
   "execution_count": null,
   "metadata": {},
   "outputs": [],
   "source": []
  },
  {
   "cell_type": "code",
   "execution_count": null,
   "metadata": {},
   "outputs": [],
   "source": []
  },
  {
   "cell_type": "code",
   "execution_count": null,
   "metadata": {},
   "outputs": [],
   "source": []
  }
 ],
 "metadata": {
  "kernelspec": {
   "display_name": ".venv",
   "language": "python",
   "name": "python3"
  },
  "language_info": {
   "codemirror_mode": {
    "name": "ipython",
    "version": 3
   },
   "file_extension": ".py",
   "mimetype": "text/x-python",
   "name": "python",
   "nbconvert_exporter": "python",
   "pygments_lexer": "ipython3",
   "version": "3.12.4"
  }
 },
 "nbformat": 4,
 "nbformat_minor": 2
}
