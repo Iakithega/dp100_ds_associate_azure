{
 "cells": [
  {
   "cell_type": "code",
   "execution_count": null,
   "metadata": {},
   "outputs": [],
   "source": [
    "from azure.ai.ml import MLClient\n",
    "from azure.identity import DefaultAzureCredential, InteractiveBrowserCredential\n",
    "from dotenv import load_dotenv\n",
    "import os\n"
   ]
  },
  {
   "cell_type": "markdown",
   "metadata": {},
   "source": [
    "## Connect to the workspace\n",
    "After the Python SDK is installed, you'll need to connect to the workspace. By connecting, you're authenticating your environment to interact with the workspace to create and manage assets and resources.\n",
    "\n",
    "To authenticate, you need the values to three necessary parameters:\n",
    "\n",
    "#### subscription_id: Your subscription ID.\n",
    "#### resource_group: The name of your resource group.\n",
    "#### workspace_name: The name of your workspace."
   ]
  },
  {
   "cell_type": "code",
   "execution_count": 6,
   "metadata": {},
   "outputs": [
    {
     "name": "stderr",
     "output_type": "stream",
     "text": [
      "Overriding of current TracerProvider is not allowed\n",
      "Overriding of current LoggerProvider is not allowed\n",
      "Overriding of current MeterProvider is not allowed\n",
      "Attempting to instrument while already instrumented\n",
      "Attempting to instrument while already instrumented\n",
      "Attempting to instrument while already instrumented\n"
     ]
    }
   ],
   "source": [
    "load_dotenv()\n",
    "\n",
    "subscription_id = os.getenv(\"AZURE_SUBSCRIPTION_ID\")\n",
    "resource_group = os.getenv(\"AZURE_RESOURCE_GROUP\")\n",
    "workspace_name = os.getenv(\"AZURE_WORKSPACE_NAME\")\n",
    "\n",
    "\n",
    "\n",
    "try:\n",
    "    credential = DefaultAzureCredential()\n",
    "    # Check if given credential can get token successfully.\n",
    "    credential.get_token(\"https://management.azure.com/.default\")\n",
    "except Exception as ex:\n",
    "    # Fall back to InteractiveBrowserCredential in case DefaultAzureCredential not work\n",
    "    credential = InteractiveBrowserCredential()\n",
    "\n",
    "\n",
    "ml_client = MLClient(\n",
    "    DefaultAzureCredential(), subscription_id, resource_group, workspace_name\n",
    ")"
   ]
  },
  {
   "cell_type": "code",
   "execution_count": 7,
   "metadata": {},
   "outputs": [
    {
     "name": "stdout",
     "output_type": "stream",
     "text": [
      "dvo-CPU-INS-DS11 : computeinstance\n",
      "Datastore: azureml_globaldatasets (Type: DatastoreType.AZURE_BLOB)\n",
      "Datastore: workspaceblobstore (Type: DatastoreType.AZURE_BLOB)\n",
      "Datastore: workspaceworkingdirectory (Type: DatastoreType.AZURE_FILE)\n",
      "Datastore: workspaceartifactstore (Type: DatastoreType.AZURE_BLOB)\n",
      "Datastore: workspacefilestore (Type: DatastoreType.AZURE_FILE)\n"
     ]
    }
   ],
   "source": [
    "# List available compute resources\n",
    "compute_list = ml_client.compute.list()\n",
    "for compute in compute_list:\n",
    "    print(compute.name, \":\", compute.type)\n",
    "\n",
    "\n",
    "# List all datastores in your workspace\n",
    "datastores = ml_client.datastores.list()\n",
    "for datastore in datastores:\n",
    "    print(f\"Datastore: {datastore.name} (Type: {datastore.type})\")"
   ]
  },
  {
   "cell_type": "markdown",
   "metadata": {},
   "source": [
    "## To create a URI file data asset, you can use the following code:\n",
    "\n"
   ]
  },
  {
   "cell_type": "code",
   "execution_count": 9,
   "metadata": {},
   "outputs": [
    {
     "name": "stderr",
     "output_type": "stream",
     "text": [
      "Uploading diabetes.csv (< 1 MB): 0.00B [00:00, ?B/s] (< 1 MB): 100%|##########| 528k/528k [00:00<00:00, 1.07MB/s] (< 1 MB): 100%|##########| 528k/528k [00:00<00:00, 1.07MB/s]\n",
      "\n",
      "\n"
     ]
    },
    {
     "data": {
      "text/plain": [
       "Data({'path': 'azureml://subscriptions/6f83b388-7253-46ac-a2f7-300b7e3f313e/resourcegroups/pbi-dvo-rg/workspaces/dp100dvoML/datastores/workspaceblobstore/paths/LocalUpload/a01a5b9f954664cdfd935246b25e7f69/diabetes.csv', 'skip_validation': False, 'mltable_schema_url': None, 'referenced_uris': None, 'type': 'uri_file', 'is_anonymous': False, 'auto_increment_version': False, 'auto_delete_setting': None, 'name': 'diabetes_csv', 'description': 'its my test csv data', 'tags': {}, 'properties': {}, 'print_as_yaml': False, 'id': '/subscriptions/6f83b388-7253-46ac-a2f7-300b7e3f313e/resourceGroups/pbi-dvo-rg/providers/Microsoft.MachineLearningServices/workspaces/dp100dvoML/data/diabetes_csv/versions/01', 'Resource__source_path': '', 'base_path': 'c:\\\\Users\\\\dvolf\\\\python_projects\\\\azure_dp_100_2025\\\\dp100_ds_associate_azure\\\\module_2_explore_azure_ml\\\\module_2_3', 'creation_context': <azure.ai.ml.entities._system_data.SystemData object at 0x00000270417FF7D0>, 'serialize': <msrest.serialization.Serializer object at 0x00000270417FE8D0>, 'version': '01', 'latest_version': None, 'datastore': None})"
      ]
     },
     "execution_count": 9,
     "metadata": {},
     "output_type": "execute_result"
    }
   ],
   "source": [
    "from azure.ai.ml.entities import Data\n",
    "from azure.ai.ml.constants import AssetTypes\n",
    "\n",
    "# my_path = r'module_2_explore_azure_ml\\module_2_3\\diabetes.csv'\n",
    "my_path = r\"C:\\Users\\dvolf\\python_projects\\azure_dp_100_2025\\dp100_ds_associate_azure\\module_2_explore_azure_ml\\module_2_3\\diabetes.csv\"\n",
    "\n",
    "my_data = Data(\n",
    "    path=my_path,\n",
    "    type=AssetTypes.URI_FILE,\n",
    "    description=\"its my test csv data\",\n",
    "    name=\"diabetes_csv\",\n",
    "    version=\"01\"\n",
    ")\n",
    "\n",
    "ml_client.data.create_or_update(my_data)"
   ]
  },
  {
   "cell_type": "code",
   "execution_count": null,
   "metadata": {},
   "outputs": [],
   "source": []
  },
  {
   "cell_type": "code",
   "execution_count": 11,
   "metadata": {},
   "outputs": [
    {
     "name": "stderr",
     "output_type": "stream",
     "text": [
      "Uploading module_2_3 (0.53 MBs): 100%|##########| 534459/534459 [00:00<00:00, 812995.96it/s]\n",
      "\n",
      "\n"
     ]
    },
    {
     "data": {
      "text/plain": [
       "Data({'path': 'azureml://subscriptions/6f83b388-7253-46ac-a2f7-300b7e3f313e/resourcegroups/pbi-dvo-rg/workspaces/dp100dvoML/datastores/workspaceblobstore/paths/LocalUpload/e97a9cbc2d56aa5fed6747b53615fc7e/module_2_3/', 'skip_validation': False, 'mltable_schema_url': None, 'referenced_uris': None, 'type': 'uri_folder', 'is_anonymous': False, 'auto_increment_version': False, 'auto_delete_setting': None, 'name': 'diabetes-folder', 'description': 'my test folder with data', 'tags': {}, 'properties': {}, 'print_as_yaml': False, 'id': '/subscriptions/6f83b388-7253-46ac-a2f7-300b7e3f313e/resourceGroups/pbi-dvo-rg/providers/Microsoft.MachineLearningServices/workspaces/dp100dvoML/data/diabetes-folder/versions/02', 'Resource__source_path': '', 'base_path': 'c:\\\\Users\\\\dvolf\\\\python_projects\\\\azure_dp_100_2025\\\\dp100_ds_associate_azure\\\\module_2_explore_azure_ml\\\\module_2_3', 'creation_context': <azure.ai.ml.entities._system_data.SystemData object at 0x000002704223DEB0>, 'serialize': <msrest.serialization.Serializer object at 0x00000270424AE660>, 'version': '02', 'latest_version': None, 'datastore': None})"
      ]
     },
     "execution_count": 11,
     "metadata": {},
     "output_type": "execute_result"
    }
   ],
   "source": [
    "from azure.ai.ml.entities import Data\n",
    "from azure.ai.ml.constants import AssetTypes\n",
    "\n",
    "my_path_folder = r'C:\\Users\\dvolf\\python_projects\\azure_dp_100_2025\\dp100_ds_associate_azure\\module_2_explore_azure_ml\\module_2_3'\n",
    "\n",
    "my_data_folder = Data(\n",
    "    path=my_path_folder,\n",
    "    type=AssetTypes.URI_FOLDER,\n",
    "    description=\"my test folder with data\",\n",
    "    name=\"diabetes-folder\",\n",
    "    version='02'\n",
    ")\n",
    "\n",
    "ml_client.data.create_or_update(my_data_folder)"
   ]
  },
  {
   "cell_type": "code",
   "execution_count": null,
   "metadata": {},
   "outputs": [],
   "source": []
  },
  {
   "cell_type": "code",
   "execution_count": null,
   "metadata": {},
   "outputs": [],
   "source": []
  }
 ],
 "metadata": {
  "kernelspec": {
   "display_name": ".venv",
   "language": "python",
   "name": "python3"
  },
  "language_info": {
   "codemirror_mode": {
    "name": "ipython",
    "version": 3
   },
   "file_extension": ".py",
   "mimetype": "text/x-python",
   "name": "python",
   "nbconvert_exporter": "python",
   "pygments_lexer": "ipython3",
   "version": "3.12.4"
  }
 },
 "nbformat": 4,
 "nbformat_minor": 2
}
