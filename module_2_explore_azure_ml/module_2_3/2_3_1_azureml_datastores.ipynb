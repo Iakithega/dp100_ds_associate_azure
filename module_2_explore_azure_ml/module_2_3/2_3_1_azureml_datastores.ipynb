{
 "cells": [
  {
   "cell_type": "code",
   "execution_count": 1,
   "metadata": {},
   "outputs": [],
   "source": [
    "from azure.ai.ml import MLClient\n",
    "from dotenv import load_dotenv\n",
    "import os\n",
    "from azure.identity import DefaultAzureCredential, InteractiveBrowserCredential\n"
   ]
  },
  {
   "cell_type": "markdown",
   "metadata": {},
   "source": [
    "## Connect to the workspace\n",
    "After the Python SDK is installed, you'll need to connect to the workspace. By connecting, you're authenticating your environment to interact with the workspace to create and manage assets and resources.\n",
    "\n",
    "To authenticate, you need the values to three necessary parameters:\n",
    "\n",
    "#### subscription_id: Your subscription ID.\n",
    "#### resource_group: The name of your resource group.\n",
    "#### workspace_name: The name of your workspace."
   ]
  },
  {
   "cell_type": "code",
   "execution_count": 2,
   "metadata": {},
   "outputs": [],
   "source": [
    "load_dotenv()\n",
    "\n",
    "subscription_id = os.getenv(\"AZURE_SUBSCRIPTION_ID\")\n",
    "resource_group = os.getenv(\"AZURE_RESOURCE_GROUP\")\n",
    "workspace_name = os.getenv(\"AZURE_WORKSPACE_NAME\")\n",
    "\n",
    "\n",
    "\n",
    "try:\n",
    "    credential = DefaultAzureCredential()\n",
    "    # Check if given credential can get token successfully.\n",
    "    credential.get_token(\"https://management.azure.com/.default\")\n",
    "except Exception as ex:\n",
    "    # Fall back to InteractiveBrowserCredential in case DefaultAzureCredential not work\n",
    "    credential = InteractiveBrowserCredential()\n",
    "\n",
    "\n",
    "ml_client = MLClient(\n",
    "    DefaultAzureCredential(), subscription_id, resource_group, workspace_name\n",
    ")"
   ]
  },
  {
   "cell_type": "code",
   "execution_count": 3,
   "metadata": {},
   "outputs": [
    {
     "name": "stdout",
     "output_type": "stream",
     "text": [
      "dvo-CPU-INS-DS11 : computeinstance\n",
      "Datastore: azureml_globaldatasets (Type: DatastoreType.AZURE_BLOB)\n",
      "Datastore: workspaceblobstore (Type: DatastoreType.AZURE_BLOB)\n",
      "Datastore: workspaceworkingdirectory (Type: DatastoreType.AZURE_FILE)\n",
      "Datastore: workspaceartifactstore (Type: DatastoreType.AZURE_BLOB)\n",
      "Datastore: workspacefilestore (Type: DatastoreType.AZURE_FILE)\n"
     ]
    }
   ],
   "source": [
    "# List available compute resources\n",
    "compute_list = ml_client.compute.list()\n",
    "for compute in compute_list:\n",
    "    print(compute.name, \":\", compute.type)\n",
    "\n",
    "\n",
    "# List all datastores in your workspace\n",
    "datastores = ml_client.datastores.list()\n",
    "for datastore in datastores:\n",
    "    print(f\"Datastore: {datastore.name} (Type: {datastore.type})\")"
   ]
  },
  {
   "cell_type": "code",
   "execution_count": null,
   "metadata": {},
   "outputs": [],
   "source": []
  },
  {
   "cell_type": "code",
   "execution_count": null,
   "metadata": {},
   "outputs": [],
   "source": []
  },
  {
   "cell_type": "code",
   "execution_count": null,
   "metadata": {},
   "outputs": [],
   "source": []
  },
  {
   "cell_type": "code",
   "execution_count": null,
   "metadata": {},
   "outputs": [],
   "source": []
  },
  {
   "cell_type": "code",
   "execution_count": null,
   "metadata": {},
   "outputs": [],
   "source": []
  }
 ],
 "metadata": {
  "kernelspec": {
   "display_name": ".venv",
   "language": "python",
   "name": "python3"
  },
  "language_info": {
   "codemirror_mode": {
    "name": "ipython",
    "version": 3
   },
   "file_extension": ".py",
   "mimetype": "text/x-python",
   "name": "python",
   "nbconvert_exporter": "python",
   "pygments_lexer": "ipython3",
   "version": "3.12.4"
  }
 },
 "nbformat": 4,
 "nbformat_minor": 2
}
